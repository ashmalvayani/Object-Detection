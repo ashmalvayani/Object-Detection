{
 "cells": [
  {
   "cell_type": "markdown",
   "metadata": {},
   "source": [
    "# 1. Import Dependencies"
   ]
  },
  {
   "cell_type": "code",
   "execution_count": 1,
   "metadata": {},
   "outputs": [
    {
     "name": "stdout",
     "output_type": "stream",
     "text": [
      "Collecting opencv-python\n",
      "  Downloading opencv_python-4.5.3.56-cp39-cp39-win_amd64.whl (34.9 MB)\n",
      "Collecting numpy>=1.19.3\n",
      "  Using cached numpy-1.21.2-cp39-cp39-win_amd64.whl (14.0 MB)\n",
      "Installing collected packages: numpy, opencv-python\n",
      "Successfully installed numpy-1.21.2 opencv-python-4.5.3.56\n"
     ]
    }
   ],
   "source": [
    "!pip install opencv-python"
   ]
  },
  {
   "cell_type": "code",
   "execution_count": 2,
   "metadata": {},
   "outputs": [],
   "source": [
    "# Import opencv\n",
    "import cv2 \n",
    "\n",
    "# Import uuid\n",
    "import uuid\n",
    "\n",
    "# Import Operating System\n",
    "import os\n",
    "\n",
    "# Import time\n",
    "import time"
   ]
  },
  {
   "cell_type": "markdown",
   "metadata": {},
   "source": [
    "# 2. Define Images to Collect"
   ]
  },
  {
   "cell_type": "code",
   "execution_count": 3,
   "metadata": {},
   "outputs": [],
   "source": [
    "labels = ['thumbsup', 'thumbsdown', 'thankyou', 'livelong']\n",
    "number_imgs = 5"
   ]
  },
  {
   "cell_type": "markdown",
   "metadata": {},
   "source": [
    "# 3. Setup Folders "
   ]
  },
  {
   "cell_type": "code",
   "execution_count": 4,
   "metadata": {},
   "outputs": [],
   "source": [
    "IMAGES_PATH = os.path.join('Tensorflow', 'workspace', 'images', 'collectedimages')"
   ]
  },
  {
   "cell_type": "code",
   "execution_count": 5,
   "metadata": {},
   "outputs": [
    {
     "data": {
      "text/plain": [
       "'Tensorflow\\\\workspace\\\\images\\\\collectedimages'"
      ]
     },
     "execution_count": 5,
     "metadata": {},
     "output_type": "execute_result"
    }
   ],
   "source": [
    "IMAGES_PATH"
   ]
  },
  {
   "cell_type": "code",
   "execution_count": 6,
   "metadata": {},
   "outputs": [],
   "source": [
    "if not os.path.exists(IMAGES_PATH):\n",
    "    if os.name == 'posix':\n",
    "        !mkdir -p {IMAGES_PATH}\n",
    "    if os.name == 'nt':\n",
    "         !mkdir {IMAGES_PATH}\n",
    "for label in labels:\n",
    "    path = os.path.join(IMAGES_PATH, label)\n",
    "    if not os.path.exists(path):\n",
    "        !mkdir {path}"
   ]
  },
  {
   "cell_type": "markdown",
   "metadata": {},
   "source": [
    "# 4. Capture Images"
   ]
  },
  {
   "cell_type": "code",
   "execution_count": 11,
   "metadata": {},
   "outputs": [
    {
     "name": "stdout",
     "output_type": "stream",
     "text": [
      "Collecting images for thumbsup\n",
      "Collecting image 0\n",
      "Collecting image 1\n",
      "Collecting image 2\n",
      "Collecting image 3\n",
      "Collecting image 4\n",
      "Collecting images for thumbsdown\n",
      "Collecting image 0\n",
      "Collecting image 1\n",
      "Collecting image 2\n",
      "Collecting image 3\n",
      "Collecting image 4\n",
      "Collecting images for thankyou\n",
      "Collecting image 0\n",
      "Collecting image 1\n",
      "Collecting image 2\n",
      "Collecting image 3\n",
      "Collecting image 4\n",
      "Collecting images for livelong\n",
      "Collecting image 0\n",
      "Collecting image 1\n",
      "Collecting image 2\n",
      "Collecting image 3\n",
      "Collecting image 4\n"
     ]
    }
   ],
   "source": [
    "for label in labels:\n",
    "    cap = cv2.VideoCapture(0) #connects to our webcam device\n",
    "    print('Collecting images for {}'.format(label))\n",
    "    time.sleep(5)\n",
    "    for imgnum in range(number_imgs):\n",
    "        print('Collecting image {}'.format(imgnum))\n",
    "        ret, frame = cap.read()\n",
    "        imgname = os.path.join(IMAGES_PATH,label,label+'.'+'{}.jpg'.format(str(uuid.uuid1())))\n",
    "        cv2.imwrite(imgname, frame)\n",
    "        cv2.imshow('frame', frame)\n",
    "        time.sleep(2)\n",
    "\n",
    "        if cv2.waitKey(1) & 0xFF == ord('q'):\n",
    "            break\n",
    "cap.release()\n",
    "cv2.destroyAllWindows()"
   ]
  },
  {
   "cell_type": "markdown",
   "metadata": {},
   "source": [
    "# 5. Image Labelling"
   ]
  },
  {
   "cell_type": "code",
   "execution_count": 12,
   "metadata": {},
   "outputs": [
    {
     "name": "stdout",
     "output_type": "stream",
     "text": [
      "Collecting pyqt5\n",
      "  Downloading PyQt5-5.15.4-cp36.cp37.cp38.cp39-none-win_amd64.whl (6.8 MB)\n",
      "Collecting lxml\n",
      "  Downloading lxml-4.6.3-cp39-cp39-win_amd64.whl (3.5 MB)\n",
      "Collecting PyQt5-sip<13,>=12.8\n",
      "  Downloading PyQt5_sip-12.9.0-cp39-cp39-win_amd64.whl (63 kB)\n",
      "Collecting PyQt5-Qt5>=5.15\n",
      "  Downloading PyQt5_Qt5-5.15.2-py3-none-win_amd64.whl (50.1 MB)\n",
      "Installing collected packages: PyQt5-sip, PyQt5-Qt5, pyqt5, lxml\n",
      "Successfully installed PyQt5-Qt5-5.15.2 PyQt5-sip-12.9.0 lxml-4.6.3 pyqt5-5.15.4\n"
     ]
    }
   ],
   "source": [
    "!pip install --upgrade pyqt5 lxml"
   ]
  },
  {
   "cell_type": "code",
   "execution_count": 13,
   "metadata": {},
   "outputs": [
    {
     "name": "stdout",
     "output_type": "stream",
     "text": [
      "Package           Version\n",
      "----------------- --------\n",
      "backcall          0.2.0\n",
      "colorama          0.4.4\n",
      "debugpy           1.4.1\n",
      "decorator         5.0.9\n",
      "entrypoints       0.3\n",
      "ipykernel         6.3.0\n",
      "ipython           7.27.0\n",
      "ipython-genutils  0.2.0\n",
      "jedi              0.18.0\n",
      "jupyter-client    7.0.2\n",
      "jupyter-core      4.7.1\n",
      "lxml              4.6.3\n",
      "matplotlib-inline 0.1.2\n",
      "nest-asyncio      1.5.1\n",
      "numpy             1.21.2\n",
      "opencv-python     4.5.3.56\n",
      "parso             0.8.2\n",
      "pickleshare       0.7.5\n",
      "pip               21.2.4\n",
      "prompt-toolkit    3.0.20\n",
      "Pygments          2.10.0\n",
      "PyQt5             5.15.4\n",
      "PyQt5-Qt5         5.15.2\n",
      "PyQt5-sip         12.9.0\n",
      "python-dateutil   2.8.2\n",
      "pywin32           301\n",
      "pyzmq             22.2.1\n",
      "setuptools        56.0.0\n",
      "six               1.16.0\n",
      "tornado           6.1\n",
      "traitlets         5.1.0\n",
      "wcwidth           0.2.5\n"
     ]
    }
   ],
   "source": [
    "!pip list"
   ]
  },
  {
   "cell_type": "code",
   "execution_count": 14,
   "metadata": {},
   "outputs": [],
   "source": [
    "LABELIMG_PATH = os.path.join('Tensorflow', 'labelimg')"
   ]
  },
  {
   "cell_type": "code",
   "execution_count": 15,
   "metadata": {},
   "outputs": [
    {
     "name": "stderr",
     "output_type": "stream",
     "text": [
      "Cloning into 'Tensorflow\\labelimg'...\n"
     ]
    }
   ],
   "source": [
    "if not os.path.exists(LABELIMG_PATH):\n",
    "    !mkdir {LABELIMG_PATH}\n",
    "    !git clone https://github.com/tzutalin/labelImg {LABELIMG_PATH}"
   ]
  },
  {
   "cell_type": "code",
   "execution_count": 16,
   "metadata": {},
   "outputs": [],
   "source": [
    "if os.name == 'posix':\n",
    "    !cd {LABELIMG_PATH} && make qt5py3\n",
    "if os.name =='nt':\n",
    "    !cd {LABELIMG_PATH} && pyrcc5 -o libs/resources.py resources.qrc"
   ]
  },
  {
   "cell_type": "code",
   "execution_count": 17,
   "metadata": {},
   "outputs": [
    {
     "name": "stdout",
     "output_type": "stream",
     "text": [
      "Image:D:\\python\\Tensorflow\\Object Detection\\TFODCourse\\Tensorflow\\workspace\\images\\collectedimages\\livelong\\livelong.e8ef879b-09d4-11ec-a2ac-c8d3ff6b43fa.jpg -> Annotation:D:/python/Tensorflow/Object Detection/TFODCourse/Tensorflow/workspace/images/collectedimages/livelong/livelong.e8ef879b-09d4-11ec-a2ac-c8d3ff6b43fa.xml\n",
      "Image:D:\\python\\Tensorflow\\Object Detection\\TFODCourse\\Tensorflow\\workspace\\images\\collectedimages\\livelong\\livelong.ea24c2bd-09d4-11ec-ab3d-c8d3ff6b43fa.jpg -> Annotation:D:/python/Tensorflow/Object Detection/TFODCourse/Tensorflow/workspace/images/collectedimages/livelong/livelong.ea24c2bd-09d4-11ec-ab3d-c8d3ff6b43fa.xml\n",
      "Image:D:\\python\\Tensorflow\\Object Detection\\TFODCourse\\Tensorflow\\workspace\\images\\collectedimages\\livelong\\livelong.eb5a24de-09d4-11ec-8040-c8d3ff6b43fa.jpg -> Annotation:D:/python/Tensorflow/Object Detection/TFODCourse/Tensorflow/workspace/images/collectedimages/livelong/livelong.eb5a24de-09d4-11ec-8040-c8d3ff6b43fa.xml\n",
      "Image:D:\\python\\Tensorflow\\Object Detection\\TFODCourse\\Tensorflow\\workspace\\images\\collectedimages\\livelong\\livelong.ec8f86f3-09d4-11ec-9bfe-c8d3ff6b43fa.jpg -> Annotation:D:/python/Tensorflow/Object Detection/TFODCourse/Tensorflow/workspace/images/collectedimages/livelong/livelong.ec8f86f3-09d4-11ec-9bfe-c8d3ff6b43fa.xml\n",
      "Image:D:\\python\\Tensorflow\\Object Detection\\TFODCourse\\Tensorflow\\workspace\\images\\collectedimages\\livelong\\livelong.edc3b17e-09d4-11ec-8863-c8d3ff6b43fa.jpg -> Annotation:D:/python/Tensorflow/Object Detection/TFODCourse/Tensorflow/workspace/images/collectedimages/livelong/livelong.edc3b17e-09d4-11ec-8863-c8d3ff6b43fa.xml\n",
      "Image:D:\\python\\Tensorflow\\Object Detection\\TFODCourse\\Tensorflow\\workspace\\images\\collectedimages\\thankyou\\thankyou.8c2f9fc1-09d4-11ec-b5dc-c8d3ff6b43fa.jpg -> Annotation:D:/python/Tensorflow/Object Detection/TFODCourse/Tensorflow/workspace/images/collectedimages/thankyou/thankyou.8c2f9fc1-09d4-11ec-b5dc-c8d3ff6b43fa.xml\n",
      "Image:D:\\python\\Tensorflow\\Object Detection\\TFODCourse\\Tensorflow\\workspace\\images\\collectedimages\\thankyou\\thankyou.8d63f11f-09d4-11ec-899c-c8d3ff6b43fa.jpg -> Annotation:D:/python/Tensorflow/Object Detection/TFODCourse/Tensorflow/workspace/images/collectedimages/thankyou/thankyou.8d63f11f-09d4-11ec-899c-c8d3ff6b43fa.xml\n",
      "Image:D:\\python\\Tensorflow\\Object Detection\\TFODCourse\\Tensorflow\\workspace\\images\\collectedimages\\thankyou\\thankyou.8e99532f-09d4-11ec-997d-c8d3ff6b43fa.jpg -> Annotation:D:/python/Tensorflow/Object Detection/TFODCourse/Tensorflow/workspace/images/collectedimages/thankyou/thankyou.8e99532f-09d4-11ec-997d-c8d3ff6b43fa.xml\n",
      "Image:D:\\python\\Tensorflow\\Object Detection\\TFODCourse\\Tensorflow\\workspace\\images\\collectedimages\\thankyou\\thankyou.8fd061d2-09d4-11ec-a06e-c8d3ff6b43fa.jpg -> Annotation:D:/python/Tensorflow/Object Detection/TFODCourse/Tensorflow/workspace/images/collectedimages/thankyou/thankyou.8fd061d2-09d4-11ec-a06e-c8d3ff6b43fa.xml\n",
      "Image:D:\\python\\Tensorflow\\Object Detection\\TFODCourse\\Tensorflow\\workspace\\images\\collectedimages\\thankyou\\thankyou.9103c9e9-09d4-11ec-812d-c8d3ff6b43fa.jpg -> Annotation:D:/python/Tensorflow/Object Detection/TFODCourse/Tensorflow/workspace/images/collectedimages/thankyou/thankyou.9103c9e9-09d4-11ec-812d-c8d3ff6b43fa.xml\n",
      "Image:D:\\python\\Tensorflow\\Object Detection\\TFODCourse\\Tensorflow\\workspace\\images\\collectedimages\\thumbsdown\\thumbsdown.cd43acb5-09d4-11ec-8181-c8d3ff6b43fa.jpg -> Annotation:D:/python/Tensorflow/Object Detection/TFODCourse/Tensorflow/workspace/images/collectedimages/thumbsdown/thumbsdown.cd43acb5-09d4-11ec-8181-c8d3ff6b43fa.xml\n",
      "Image:D:\\python\\Tensorflow\\Object Detection\\TFODCourse\\Tensorflow\\workspace\\images\\collectedimages\\thumbsdown\\thumbsdown.ce79f876-09d4-11ec-b7ac-c8d3ff6b43fa.jpg -> Annotation:D:/python/Tensorflow/Object Detection/TFODCourse/Tensorflow/workspace/images/collectedimages/thumbsdown/thumbsdown.ce79f876-09d4-11ec-b7ac-c8d3ff6b43fa.xml\n",
      "Image:D:\\python\\Tensorflow\\Object Detection\\TFODCourse\\Tensorflow\\workspace\\images\\collectedimages\\thumbsdown\\thumbsdown.cfaf5a93-09d4-11ec-a23b-c8d3ff6b43fa.jpg -> Annotation:D:/python/Tensorflow/Object Detection/TFODCourse/Tensorflow/workspace/images/collectedimages/thumbsdown/thumbsdown.cfaf5a93-09d4-11ec-a23b-c8d3ff6b43fa.xml\n",
      "Image:D:\\python\\Tensorflow\\Object Detection\\TFODCourse\\Tensorflow\\workspace\\images\\collectedimages\\thumbsdown\\thumbsdown.d0e3abff-09d4-11ec-a98d-c8d3ff6b43fa.jpg -> Annotation:D:/python/Tensorflow/Object Detection/TFODCourse/Tensorflow/workspace/images/collectedimages/thumbsdown/thumbsdown.d0e3abff-09d4-11ec-a98d-c8d3ff6b43fa.xml\n",
      "Image:D:\\python\\Tensorflow\\Object Detection\\TFODCourse\\Tensorflow\\workspace\\images\\collectedimages\\thumbsdown\\thumbsdown.d219d0da-09d4-11ec-a57c-c8d3ff6b43fa.jpg -> Annotation:D:/python/Tensorflow/Object Detection/TFODCourse/Tensorflow/workspace/images/collectedimages/thumbsdown/thumbsdown.d219d0da-09d4-11ec-a57c-c8d3ff6b43fa.xml\n",
      "Image:D:\\python\\Tensorflow\\Object Detection\\TFODCourse\\Tensorflow\\workspace\\images\\collectedimages\\thumbsup\\thumbsup.bf7b84f2-09d4-11ec-b04a-c8d3ff6b43fa.jpg -> Annotation:D:/python/Tensorflow/Object Detection/TFODCourse/Tensorflow/workspace/images/collectedimages/thumbsup/thumbsup.bf7b84f2-09d4-11ec-b04a-c8d3ff6b43fa.xml\n",
      "Image:D:\\python\\Tensorflow\\Object Detection\\TFODCourse\\Tensorflow\\workspace\\images\\collectedimages\\thumbsup\\thumbsup.c0b1d0d2-09d4-11ec-a925-c8d3ff6b43fa.jpg -> Annotation:D:/python/Tensorflow/Object Detection/TFODCourse/Tensorflow/workspace/images/collectedimages/thumbsup/thumbsup.c0b1d0d2-09d4-11ec-a925-c8d3ff6b43fa.xml\n",
      "Image:D:\\python\\Tensorflow\\Object Detection\\TFODCourse\\Tensorflow\\workspace\\images\\collectedimages\\thumbsup\\thumbsup.c1e7a7b7-09d4-11ec-bdb3-c8d3ff6b43fa.jpg -> Annotation:D:/python/Tensorflow/Object Detection/TFODCourse/Tensorflow/workspace/images/collectedimages/thumbsup/thumbsup.c1e7a7b7-09d4-11ec-bdb3-c8d3ff6b43fa.xml\n",
      "Image:D:\\python\\Tensorflow\\Object Detection\\TFODCourse\\Tensorflow\\workspace\\images\\collectedimages\\thumbsup\\thumbsup.c31da5a1-09d4-11ec-809c-c8d3ff6b43fa.jpg -> Annotation:D:/python/Tensorflow/Object Detection/TFODCourse/Tensorflow/workspace/images/collectedimages/thumbsup/thumbsup.c31da5a1-09d4-11ec-809c-c8d3ff6b43fa.xml\n",
      "Image:D:\\python\\Tensorflow\\Object Detection\\TFODCourse\\Tensorflow\\workspace\\images\\collectedimages\\thumbsup\\thumbsup.c451f725-09d4-11ec-8a9a-c8d3ff6b43fa.jpg -> Annotation:D:/python/Tensorflow/Object Detection/TFODCourse/Tensorflow/workspace/images/collectedimages/thumbsup/thumbsup.c451f725-09d4-11ec-8a9a-c8d3ff6b43fa.xml\n"
     ]
    },
    {
     "name": "stderr",
     "output_type": "stream",
     "text": [
      "D:\\python\\Tensorflow\\Object Detection\\TFODCourse\\Tensorflow\\labelimg\\labelImg.py:971: DeprecationWarning: an integer is required (got type float).  Implicit conversion to integers using __int__ is deprecated, and may be removed in a future version of Python.\n",
      "  self.zoom_widget.setValue(value)\n",
      "D:\\python\\Tensorflow\\Object Detection\\TFODCourse\\Tensorflow\\labelimg\\labelImg.py:1025: DeprecationWarning: an integer is required (got type float).  Implicit conversion to integers using __int__ is deprecated, and may be removed in a future version of Python.\n",
      "  h_bar.setValue(new_h_bar_value)\n",
      "D:\\python\\Tensorflow\\Object Detection\\TFODCourse\\Tensorflow\\labelimg\\labelImg.py:1026: DeprecationWarning: an integer is required (got type float).  Implicit conversion to integers using __int__ is deprecated, and may be removed in a future version of Python.\n",
      "  v_bar.setValue(new_v_bar_value)\n",
      "D:\\python\\Tensorflow\\Object Detection\\TFODCourse\\Tensorflow\\labelimg\\labelImg.py:965: DeprecationWarning: an integer is required (got type float).  Implicit conversion to integers using __int__ is deprecated, and may be removed in a future version of Python.\n",
      "  bar.setValue(bar.value() + bar.singleStep() * units)\n"
     ]
    }
   ],
   "source": [
    "!cd {LABELIMG_PATH} && python labelImg.py"
   ]
  },
  {
   "cell_type": "markdown",
   "metadata": {},
   "source": [
    "# 6. Move them into a Training and Testing Partition"
   ]
  },
  {
   "cell_type": "markdown",
   "metadata": {},
   "source": [
    "# OPTIONAL - 7. Compress them for Colab Training"
   ]
  },
  {
   "cell_type": "code",
   "execution_count": 20,
   "metadata": {},
   "outputs": [],
   "source": [
    "TRAIN_PATH = os.path.join('Tensorflow', 'workspace', 'images', 'train')\n",
    "TEST_PATH = os.path.join('Tensorflow', 'workspace', 'images', 'test')\n",
    "ARCHIVE_PATH = os.path.join('Tensorflow', 'workspace', 'images', 'archive.tar.gz')"
   ]
  },
  {
   "cell_type": "code",
   "execution_count": 21,
   "metadata": {},
   "outputs": [],
   "source": [
    "!tar -czf {ARCHIVE_PATH} {TRAIN_PATH} {TEST_PATH}"
   ]
  },
  {
   "cell_type": "code",
   "execution_count": null,
   "metadata": {},
   "outputs": [],
   "source": []
  }
 ],
 "metadata": {
  "kernelspec": {
   "display_name": "tfod",
   "language": "python",
   "name": "tfod"
  },
  "language_info": {
   "codemirror_mode": {
    "name": "ipython",
    "version": 3
   },
   "file_extension": ".py",
   "mimetype": "text/x-python",
   "name": "python",
   "nbconvert_exporter": "python",
   "pygments_lexer": "ipython3",
   "version": "3.9.6"
  }
 },
 "nbformat": 4,
 "nbformat_minor": 2
}
